{
  "nbformat": 4,
  "nbformat_minor": 0,
  "metadata": {
    "colab": {
      "name": "finnovus_assignment.ipynb",
      "provenance": [],
      "collapsed_sections": [],
      "authorship_tag": "ABX9TyOyulJf0d0vI38ySvQpn/BH",
      "include_colab_link": true
    },
    "kernelspec": {
      "name": "python3",
      "display_name": "Python 3"
    },
    "language_info": {
      "name": "python"
    }
  },
  "cells": [
    {
      "cell_type": "markdown",
      "metadata": {
        "id": "view-in-github",
        "colab_type": "text"
      },
      "source": [
        "<a href=\"https://colab.research.google.com/github/Bdnaturetech/Python-project/blob/main/pdf_to_csv.ipynb\" target=\"_parent\"><img src=\"https://colab.research.google.com/assets/colab-badge.svg\" alt=\"Open In Colab\"/></a>"
      ]
    },
    {
      "cell_type": "code",
      "metadata": {
        "id": "liwpQtX7sUkN"
      },
      "source": [
        "pip install tabula-py"
      ],
      "execution_count": null,
      "outputs": []
    },
    {
      "cell_type": "code",
      "metadata": {
        "id": "dQk0BKc-s5oP"
      },
      "source": [
        "import pandas as pd\n",
        "import tabula as tb"
      ],
      "execution_count": 2,
      "outputs": []
    },
    {
      "cell_type": "code",
      "metadata": {
        "colab": {
          "base_uri": "https://localhost:8080/"
        },
        "id": "gzqdAq7Cr6XK",
        "outputId": "019d1f6e-44cf-4088-ffef-8c5e0d60a6a3"
      },
      "source": [
        "# I use this to Read the given file\n",
        "readf = tb.read_pdf(\"Bodal_chemicals_ltd.pdf\", pages='all')\n",
        "# convert PDF into CSV\n",
        "consolbs_output=tb.convert_into(\"Bodal_chemicals_ltd.pdf\", \"consolidate_balance_sheet.csv\", output_format=\"csv\", pages=[4], stream=True)\n",
        "consolpl_output=tb.convert_into(\"Bodal_chemicals_ltd.pdf\", \"consolidated_profit_loss.csv\", output_format=\"csv\", pages=[5], stream=True)\n",
        "\n",
        "print(readf)\n",
        "print(consolbs_output)\n",
        "print(consolpl_output)\n"
      ],
      "execution_count": 9,
      "outputs": [
        {
          "output_type": "stream",
          "text": [
            "[    notes As at\\r31st March, 2020\n",
            "0     NaN                     NaN\n",
            "1     NaN                     NaN\n",
            "2     2.0                6,376.38\n",
            "3     NaN                   68.58\n",
            "4     3.0                    7.73\n",
            "5     NaN                  154.75\n",
            "6     4.0                    8.84\n",
            "7     NaN                     NaN\n",
            "8     5.0                   31.94\n",
            "9     6.0                   15.99\n",
            "10    7.0                   36.50\n",
            "11    8.0                  105.97\n",
            "12    9.0                  153.50\n",
            "13   10.0                  155.22\n",
            "14    NaN                7,115.40\n",
            "15    NaN                     NaN\n",
            "16   11.0                2,190.51\n",
            "17    NaN                     NaN\n",
            "18   12.0                       -\n",
            "19   13.0                3,770.55\n",
            "20   13.0                  771.05\n",
            "21   14.0                  144.65\n",
            "22   15.0                   50.41\n",
            "23   16.0                   48.10\n",
            "24   17.0                    1.40\n",
            "25   18.0                  603.40\n",
            "26    NaN                7,580.07\n",
            "27    NaN               14,695.47\n",
            "28    NaN                     NaN\n",
            "29    NaN                     NaN\n",
            "30   19.0                  244.66\n",
            "31   20.0                8,642.17\n",
            "32    NaN                  431.25\n",
            "33    NaN                9,318.08\n",
            "34    NaN                   48.91\n",
            "35    NaN                9,366.99\n",
            "36    NaN                     NaN\n",
            "37    NaN                     NaN\n",
            "38    NaN                     NaN\n",
            "39   21.0                    0.19\n",
            "40    NaN                    5.55\n",
            "41   22.0                    1.37\n",
            "42   23.0                  376.24\n",
            "43    NaN                  383.35\n",
            "44    NaN                     NaN\n",
            "45    NaN                     NaN\n",
            "46   24.0                1,793.44\n",
            "47   24.0                  771.05\n",
            "48    NaN                    2.45\n",
            "49   25.0                     NaN\n",
            "50    NaN                   32.85\n",
            "51    NaN                2,064.48\n",
            "52   26.0                   49.64\n",
            "53   27.0                  135.28\n",
            "54   28.0                       -\n",
            "55   29.0                   95.94\n",
            "56    NaN                4,945.13\n",
            "57    NaN                5,328.48\n",
            "58    NaN               14,695.47,                                           PArtICuLArs  ...     Year ended.1\n",
            "0                                                 NaN  ...  31st March 2019\n",
            "1                                              InCoMe  ...              NaN\n",
            "2                             Revenue from Operations  ...        14,235.02\n",
            "3                                        Other Income  ...           133.52\n",
            "4                                        total Income  ...        14,368.54\n",
            "5                                            exPenses  ...              NaN\n",
            "6                      Cost of Raw Materials Consumed  ...         9,465.64\n",
            "7                         Purchases of Stock-in Trade  ...           159.88\n",
            "8   Changes in Inventories of Finished Goods, Work...  ...         (765.04)\n",
            "9                           Employee Benefits Expense  ...           636.79\n",
            "10                                      Finance Costs  ...            90.75\n",
            "11              Depreciation and Amortisation expense  ...           212.49\n",
            "12                                     Other Expenses  ...         2,376.33\n",
            "13                                     total expenses  ...        12,176.84\n",
            "14                                  Profit Before tax  ...         2,191.70\n",
            "15                                       tax expenses  ...              NaN\n",
            "16                                        Current Tax  ...           618.77\n",
            "17                                       Deferred Tax  ...           151.10\n",
            "18                                  total tax expense  ...           769.87\n",
            "19  Profit for the year Before share of Loss of As...  ...         1,421.83\n",
            "20                Less : Share of (Loss) of Associate  ...           (8.84)\n",
            "21                                Profit for the Year  ...         1,412.99\n",
            "22                other Comprehensive Income / (Loss)  ...              NaN\n",
            "23  Items that will not be reclassified to profit ...  ...              NaN\n",
            "24        Remeasurements of the defined benefit plans  ...           (6.70)\n",
            "25  Income Tax relating to items that will not be ...  ...             2.34\n",
            "26                          Share of OCI in associate  ...                -\n",
            "27                                                NaN  ...           (5.36)\n",
            "28     Items that will reclassified to profit or loss  ...              NaN\n",
            "29  Exchange differences in translating the financ...  ...                -\n",
            "30                                                NaN  ...                -\n",
            "31  other Comprehensive Income/(Loss) for the Year...  ...           (4.36)\n",
            "32            total Comprehensive Income for the Year  ...         1,408.63\n",
            "33               Profit for the Year Attributable to:  ...              NaN\n",
            "34                              Owners of the Company  ...         1,431.99\n",
            "35                           Non-controlling interest  ...          (19.00)\n",
            "36                                                NaN  ...         1,412.99\n",
            "37  other Comprehensive Income/(Loss) for the Year...  ...              NaN\n",
            "38                              Owners of the Company  ...           (4.36)\n",
            "39                           Non-controlling interest  ...                -\n",
            "40                                                NaN  ...           (4.36)\n",
            "41  total Comprehensive Income for the Year Attrib...  ...              NaN\n",
            "42                              Owners of the Company  ...         1,427.63\n",
            "43                           Non-controlling interest  ...          (19.00)\n",
            "44                                                NaN  ...         1,408.63\n",
            "45      Earnings per equity share (Face value of ` 2)  ...              NaN\n",
            "46                                       Basic (in `)  ...            11.56\n",
            "47                                     Diluted (in `)  ...            11.54\n",
            "\n",
            "[48 rows x 4 columns]]\n",
            "None\n",
            "None\n"
          ],
          "name": "stdout"
        }
      ]
    },
    {
      "cell_type": "markdown",
      "metadata": {
        "id": "HlXIU6V3sA6D"
      },
      "source": [
        "# New Section"
      ]
    }
  ]
}